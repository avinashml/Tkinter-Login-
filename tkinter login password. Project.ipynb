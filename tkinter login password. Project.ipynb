{
 "cells": [
  {
   "cell_type": "code",
   "execution_count": 2,
   "id": "221c3aef",
   "metadata": {},
   "outputs": [],
   "source": [
    "from tkinter import *\n",
    "from tkinter import messagebox\n",
    "\n",
    "def ok():\n",
    "    uname = e1.get()\n",
    "    password = e2.get()\n",
    "    \n",
    "    if(uname == \"\" and password == \"\") :\n",
    "        messagebox.showinfo(\"\", \"Blank not allowed\")\n",
    "        \n",
    "        \n",
    "    elif(uname == \"Admin\" and password == \"1234\"):\n",
    "        \n",
    "        messagebox.showinfo(\"\",\"Login success\")\n",
    "        root.destroy()\n",
    "        \n",
    "    else:\n",
    "        messagebox.showinfo(\"\", \"Incorrect username and password\")\n",
    "        \n",
    "root = Tk()\n",
    "root.title(\"Login\")\n",
    "root.geometry(\"200x300\")\n",
    "global e1\n",
    "global e2\n",
    "Label(root, text=\"Username\").place(x=10, y=10)\n",
    "Label(root, text=\"Password\").place(x=10, y=40)\n",
    "\n",
    "e1 = Entry(root)\n",
    "e1.place(x=140, y=10)\n",
    "\n",
    "e2 = Entry(root)\n",
    "e2.place(x=140, y=40)\n",
    "e2.config(show=\"*\")\n",
    "\n",
    "Button(root, text=\"Login\", command=ok ,height = 3, width = 13).place(x=10, y=100)\n",
    "\n",
    "root.mainloop()\n",
    "    "
   ]
  },
  {
   "cell_type": "code",
   "execution_count": null,
   "id": "ee49437c",
   "metadata": {},
   "outputs": [],
   "source": []
  }
 ],
 "metadata": {
  "kernelspec": {
   "display_name": "Python 3 (ipykernel)",
   "language": "python",
   "name": "python3"
  },
  "language_info": {
   "codemirror_mode": {
    "name": "ipython",
    "version": 3
   },
   "file_extension": ".py",
   "mimetype": "text/x-python",
   "name": "python",
   "nbconvert_exporter": "python",
   "pygments_lexer": "ipython3",
   "version": "3.9.7"
  }
 },
 "nbformat": 4,
 "nbformat_minor": 5
}
